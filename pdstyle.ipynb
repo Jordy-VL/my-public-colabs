{
  "nbformat": 4,
  "nbformat_minor": 0,
  "metadata": {
    "colab": {
      "name": "pdstyle.ipynb",
      "provenance": [],
      "collapsed_sections": [],
      "include_colab_link": true
    },
    "kernelspec": {
      "name": "python3",
      "display_name": "Python 3"
    }
  },
  "cells": [
    {
      "cell_type": "markdown",
      "metadata": {
        "id": "view-in-github",
        "colab_type": "text"
      },
      "source": [
        "<a href=\"https://colab.research.google.com/github/Jordy-VL/my-public-colabs/blob/master/pdstyle.ipynb\" target=\"_parent\"><img src=\"https://colab.research.google.com/assets/colab-badge.svg\" alt=\"Open In Colab\"/></a>"
      ]
    },
    {
      "cell_type": "code",
      "metadata": {
        "id": "dzprbY2B0997",
        "colab_type": "code",
        "colab": {
          "base_uri": "https://localhost:8080/",
          "height": 85
        },
        "outputId": "a6c2b1d7-0526-433d-aa3f-b91bbf00bbb2"
      },
      "source": [
        "import pandas as pd\n",
        "from collections import OrderedDict\n",
        "import matplotlib \n",
        "%matplotlib \n",
        "!pip install openpyxl"
      ],
      "execution_count": null,
      "outputs": [
        {
          "output_type": "stream",
          "text": [
            "Using matplotlib backend: agg\n",
            "Requirement already satisfied: openpyxl in /usr/local/lib/python3.6/dist-packages (2.5.9)\n",
            "Requirement already satisfied: jdcal in /usr/local/lib/python3.6/dist-packages (from openpyxl) (1.4.1)\n",
            "Requirement already satisfied: et-xmlfile in /usr/local/lib/python3.6/dist-packages (from openpyxl) (1.0.1)\n"
          ],
          "name": "stdout"
        }
      ]
    },
    {
      "cell_type": "code",
      "metadata": {
        "id": "bqcouL8h1ZAx",
        "colab_type": "code",
        "colab": {
          "base_uri": "https://localhost:8080/",
          "height": 111
        },
        "outputId": "57d4e598-5635-4f9c-b466-babba8c23e8a"
      },
      "source": [
        "keep = [OrderedDict([('version', 'imdb_baseline_M5_0_mc'), ('Acc', 0.4206), ('MSE(↓)', 3.421), ('F1(m)', 0.3827), ('F1(M)', 0.339), ('NLL(↓)', 1.4915), ('ECE(↓)', 0.023), ('Brier(↓)', 0.6824), ('AUC(↓)', 0.8703), ('Softmax(μ)', 0.3978), ('Entropy(μ)', 2.2699), ('MU(μ)', 0), ('DU(μ)', 0), ('UoF@5', 0), ('FP@5', 0), ('T>', 0)]), OrderedDict([('version', 'imdb_baseline_M5_0_nonbayesian'), ('Acc', 0.4205), ('MSE(↓)', 3.3887), ('F1(m)', 0.382), ('F1(M)', 0.3372), ('NLL(↓)', 1.5356), ('ECE(↓)', 0.0764), ('Brier(↓)', 0.6942), ('AUC(↓)', 0.8675), ('Softmax(μ)', 0.3441), ('Entropy(μ)', 2.5012), ('MU(μ)', 0), ('DU(μ)', 0), ('UoF@5', 0), ('FP@5', 0), ('T>', 0)])]\n",
        "df = pd.DataFrame(keep)\n",
        "df.head()"
      ],
      "execution_count": null,
      "outputs": [
        {
          "output_type": "execute_result",
          "data": {
            "text/html": [
              "<div>\n",
              "<style scoped>\n",
              "    .dataframe tbody tr th:only-of-type {\n",
              "        vertical-align: middle;\n",
              "    }\n",
              "\n",
              "    .dataframe tbody tr th {\n",
              "        vertical-align: top;\n",
              "    }\n",
              "\n",
              "    .dataframe thead th {\n",
              "        text-align: right;\n",
              "    }\n",
              "</style>\n",
              "<table border=\"1\" class=\"dataframe\">\n",
              "  <thead>\n",
              "    <tr style=\"text-align: right;\">\n",
              "      <th></th>\n",
              "      <th>version</th>\n",
              "      <th>Acc</th>\n",
              "      <th>MSE(↓)</th>\n",
              "      <th>F1(m)</th>\n",
              "      <th>F1(M)</th>\n",
              "      <th>NLL(↓)</th>\n",
              "      <th>ECE(↓)</th>\n",
              "      <th>Brier(↓)</th>\n",
              "      <th>AUC(↓)</th>\n",
              "      <th>Softmax(μ)</th>\n",
              "      <th>Entropy(μ)</th>\n",
              "      <th>MU(μ)</th>\n",
              "      <th>DU(μ)</th>\n",
              "      <th>UoF@5</th>\n",
              "      <th>FP@5</th>\n",
              "      <th>T&gt;</th>\n",
              "    </tr>\n",
              "  </thead>\n",
              "  <tbody>\n",
              "    <tr>\n",
              "      <th>0</th>\n",
              "      <td>imdb_baseline_M5_0_mc</td>\n",
              "      <td>0.4206</td>\n",
              "      <td>3.4210</td>\n",
              "      <td>0.3827</td>\n",
              "      <td>0.3390</td>\n",
              "      <td>1.4915</td>\n",
              "      <td>0.0230</td>\n",
              "      <td>0.6824</td>\n",
              "      <td>0.8703</td>\n",
              "      <td>0.3978</td>\n",
              "      <td>2.2699</td>\n",
              "      <td>0</td>\n",
              "      <td>0</td>\n",
              "      <td>0</td>\n",
              "      <td>0</td>\n",
              "      <td>0</td>\n",
              "    </tr>\n",
              "    <tr>\n",
              "      <th>1</th>\n",
              "      <td>imdb_baseline_M5_0_nonbayesian</td>\n",
              "      <td>0.4205</td>\n",
              "      <td>3.3887</td>\n",
              "      <td>0.3820</td>\n",
              "      <td>0.3372</td>\n",
              "      <td>1.5356</td>\n",
              "      <td>0.0764</td>\n",
              "      <td>0.6942</td>\n",
              "      <td>0.8675</td>\n",
              "      <td>0.3441</td>\n",
              "      <td>2.5012</td>\n",
              "      <td>0</td>\n",
              "      <td>0</td>\n",
              "      <td>0</td>\n",
              "      <td>0</td>\n",
              "      <td>0</td>\n",
              "    </tr>\n",
              "  </tbody>\n",
              "</table>\n",
              "</div>"
            ],
            "text/plain": [
              "                          version     Acc  MSE(↓)  ...  UoF@5  FP@5  T>\n",
              "0           imdb_baseline_M5_0_mc  0.4206  3.4210  ...      0     0   0\n",
              "1  imdb_baseline_M5_0_nonbayesian  0.4205  3.3887  ...      0     0   0\n",
              "\n",
              "[2 rows x 16 columns]"
            ]
          },
          "metadata": {
            "tags": []
          },
          "execution_count": 4
        }
      ]
    },
    {
      "cell_type": "code",
      "metadata": {
        "id": "-tVMKaniRvO5",
        "colab_type": "code",
        "colab": {
          "base_uri": "https://localhost:8080/",
          "height": 82
        },
        "outputId": "6dcae89f-403e-4414-e3fc-28c7c8235d8e"
      },
      "source": [
        "\n",
        "def highlight_max(s):\n",
        "    '''\n",
        "    highlight the maximum in a Series yellow.\n",
        "    '''\n",
        "    is_max = s == s.max()\n",
        "    return [\";\".join([\"color: yellow\" , \"font-weight: bold\", \"text-decoration: underline\"]) if v and s[i] != 0 else '' for i, v in enumerate(is_max)]\n",
        "\n",
        "def highlight_min(s):\n",
        "    '''\n",
        "    highlight the maximum in a Series yellow.\n",
        "    '''\n",
        "    is_min = s == s.min()#'background-color: green', \n",
        "    return [\";\".join([\"color: yellow\" , \"font-weight: bold\", \"text-decoration: underline\"]) if  v and s[i] != 0  else '' for i, v in enumerate(is_min)]\n",
        "\n",
        "\n",
        "#softmax-> difference colouring?\n",
        "lower_better_cols = [col for col in df.columns if df.dtypes[col] not in [\"object\"] and \"↓\" in col]\n",
        "higher_better_cols = [col for col in df.columns if df.dtypes[col] not in [\"object\"] and not \"↓\" in col]\n",
        "palette = \"RdYlGn\"\n",
        "style = df.style.background_gradient(cmap=palette,subset=higher_better_cols)\n",
        "style.background_gradient(\"RdYlGn\"+\"_r\", subset=lower_better_cols).apply(highlight_max, subset=higher_better_cols).apply(highlight_min, subset=lower_better_cols).set_na_rep(\"-\")\n",
        "\n",
        "\n",
        "#df.style.apply(highlight_min, subset=lower_better_cols)\n",
        "#df.style.format(\"{:.2%}\", na_rep=\"-\")\n",
        "#.highlight_null(\"yellow\")\n",
        "#.hide_index()\n",
        "\n",
        "\n",
        "\n",
        "\n",
        "                #  .bar(subset=[\"OtherPay\",], color='lightgreen')\\\n",
        "                #  .bar(subset=[\"BasePay\"], color='#ee1f5f')\\\n",
        "                #  .bar(subset=[\"TotalPay\"], color='#FFA07A')\n"
      ],
      "execution_count": null,
      "outputs": [
        {
          "output_type": "execute_result",
          "data": {
            "text/html": [
              "<style  type=\"text/css\" >\n",
              "    #T_cc4eae92_e608_11ea_952c_0242ac1c0002row0_col1 {\n",
              "            background-color:  #006837;\n",
              "            color:  #f1f1f1;\n",
              "            color:  yellow;\n",
              "            font-weight:  bold;\n",
              "            text-decoration:  underline;\n",
              "        }    #T_cc4eae92_e608_11ea_952c_0242ac1c0002row0_col2 {\n",
              "            background-color:  #a50026;\n",
              "            color:  #f1f1f1;\n",
              "            : ;\n",
              "        }    #T_cc4eae92_e608_11ea_952c_0242ac1c0002row0_col3 {\n",
              "            background-color:  #006837;\n",
              "            color:  #f1f1f1;\n",
              "            color:  yellow;\n",
              "            font-weight:  bold;\n",
              "            text-decoration:  underline;\n",
              "        }    #T_cc4eae92_e608_11ea_952c_0242ac1c0002row0_col4 {\n",
              "            background-color:  #006837;\n",
              "            color:  #f1f1f1;\n",
              "            color:  yellow;\n",
              "            font-weight:  bold;\n",
              "            text-decoration:  underline;\n",
              "        }    #T_cc4eae92_e608_11ea_952c_0242ac1c0002row0_col5 {\n",
              "            background-color:  #006837;\n",
              "            color:  #f1f1f1;\n",
              "            color:  yellow;\n",
              "            font-weight:  bold;\n",
              "            text-decoration:  underline;\n",
              "        }    #T_cc4eae92_e608_11ea_952c_0242ac1c0002row0_col6 {\n",
              "            background-color:  #006837;\n",
              "            color:  #f1f1f1;\n",
              "            color:  yellow;\n",
              "            font-weight:  bold;\n",
              "            text-decoration:  underline;\n",
              "        }    #T_cc4eae92_e608_11ea_952c_0242ac1c0002row0_col7 {\n",
              "            background-color:  #006837;\n",
              "            color:  #f1f1f1;\n",
              "            color:  yellow;\n",
              "            font-weight:  bold;\n",
              "            text-decoration:  underline;\n",
              "        }    #T_cc4eae92_e608_11ea_952c_0242ac1c0002row0_col8 {\n",
              "            background-color:  #a50026;\n",
              "            color:  #f1f1f1;\n",
              "            : ;\n",
              "        }    #T_cc4eae92_e608_11ea_952c_0242ac1c0002row0_col9 {\n",
              "            background-color:  #006837;\n",
              "            color:  #f1f1f1;\n",
              "            color:  yellow;\n",
              "            font-weight:  bold;\n",
              "            text-decoration:  underline;\n",
              "        }    #T_cc4eae92_e608_11ea_952c_0242ac1c0002row0_col10 {\n",
              "            background-color:  #a50026;\n",
              "            color:  #f1f1f1;\n",
              "            : ;\n",
              "        }    #T_cc4eae92_e608_11ea_952c_0242ac1c0002row0_col11 {\n",
              "            background-color:  #a50026;\n",
              "            color:  #f1f1f1;\n",
              "            : ;\n",
              "        }    #T_cc4eae92_e608_11ea_952c_0242ac1c0002row0_col12 {\n",
              "            background-color:  #a50026;\n",
              "            color:  #f1f1f1;\n",
              "            : ;\n",
              "        }    #T_cc4eae92_e608_11ea_952c_0242ac1c0002row0_col13 {\n",
              "            background-color:  #a50026;\n",
              "            color:  #f1f1f1;\n",
              "            : ;\n",
              "        }    #T_cc4eae92_e608_11ea_952c_0242ac1c0002row0_col14 {\n",
              "            background-color:  #a50026;\n",
              "            color:  #f1f1f1;\n",
              "            : ;\n",
              "        }    #T_cc4eae92_e608_11ea_952c_0242ac1c0002row0_col15 {\n",
              "            background-color:  #a50026;\n",
              "            color:  #f1f1f1;\n",
              "            : ;\n",
              "        }    #T_cc4eae92_e608_11ea_952c_0242ac1c0002row1_col1 {\n",
              "            background-color:  #a50026;\n",
              "            color:  #f1f1f1;\n",
              "            : ;\n",
              "        }    #T_cc4eae92_e608_11ea_952c_0242ac1c0002row1_col2 {\n",
              "            background-color:  #006837;\n",
              "            color:  #f1f1f1;\n",
              "            color:  yellow;\n",
              "            font-weight:  bold;\n",
              "            text-decoration:  underline;\n",
              "        }    #T_cc4eae92_e608_11ea_952c_0242ac1c0002row1_col3 {\n",
              "            background-color:  #a50026;\n",
              "            color:  #f1f1f1;\n",
              "            : ;\n",
              "        }    #T_cc4eae92_e608_11ea_952c_0242ac1c0002row1_col4 {\n",
              "            background-color:  #a50026;\n",
              "            color:  #f1f1f1;\n",
              "            : ;\n",
              "        }    #T_cc4eae92_e608_11ea_952c_0242ac1c0002row1_col5 {\n",
              "            background-color:  #a50026;\n",
              "            color:  #f1f1f1;\n",
              "            : ;\n",
              "        }    #T_cc4eae92_e608_11ea_952c_0242ac1c0002row1_col6 {\n",
              "            background-color:  #a50026;\n",
              "            color:  #f1f1f1;\n",
              "            : ;\n",
              "        }    #T_cc4eae92_e608_11ea_952c_0242ac1c0002row1_col7 {\n",
              "            background-color:  #a50026;\n",
              "            color:  #f1f1f1;\n",
              "            : ;\n",
              "        }    #T_cc4eae92_e608_11ea_952c_0242ac1c0002row1_col8 {\n",
              "            background-color:  #006837;\n",
              "            color:  #f1f1f1;\n",
              "            color:  yellow;\n",
              "            font-weight:  bold;\n",
              "            text-decoration:  underline;\n",
              "        }    #T_cc4eae92_e608_11ea_952c_0242ac1c0002row1_col9 {\n",
              "            background-color:  #a50026;\n",
              "            color:  #f1f1f1;\n",
              "            : ;\n",
              "        }    #T_cc4eae92_e608_11ea_952c_0242ac1c0002row1_col10 {\n",
              "            background-color:  #006837;\n",
              "            color:  #f1f1f1;\n",
              "            color:  yellow;\n",
              "            font-weight:  bold;\n",
              "            text-decoration:  underline;\n",
              "        }    #T_cc4eae92_e608_11ea_952c_0242ac1c0002row1_col11 {\n",
              "            background-color:  #a50026;\n",
              "            color:  #f1f1f1;\n",
              "            : ;\n",
              "        }    #T_cc4eae92_e608_11ea_952c_0242ac1c0002row1_col12 {\n",
              "            background-color:  #a50026;\n",
              "            color:  #f1f1f1;\n",
              "            : ;\n",
              "        }    #T_cc4eae92_e608_11ea_952c_0242ac1c0002row1_col13 {\n",
              "            background-color:  #a50026;\n",
              "            color:  #f1f1f1;\n",
              "            : ;\n",
              "        }    #T_cc4eae92_e608_11ea_952c_0242ac1c0002row1_col14 {\n",
              "            background-color:  #a50026;\n",
              "            color:  #f1f1f1;\n",
              "            : ;\n",
              "        }    #T_cc4eae92_e608_11ea_952c_0242ac1c0002row1_col15 {\n",
              "            background-color:  #a50026;\n",
              "            color:  #f1f1f1;\n",
              "            : ;\n",
              "        }</style><table id=\"T_cc4eae92_e608_11ea_952c_0242ac1c0002\" ><thead>    <tr>        <th class=\"blank level0\" ></th>        <th class=\"col_heading level0 col0\" >version</th>        <th class=\"col_heading level0 col1\" >Acc</th>        <th class=\"col_heading level0 col2\" >MSE(↓)</th>        <th class=\"col_heading level0 col3\" >F1(m)</th>        <th class=\"col_heading level0 col4\" >F1(M)</th>        <th class=\"col_heading level0 col5\" >NLL(↓)</th>        <th class=\"col_heading level0 col6\" >ECE(↓)</th>        <th class=\"col_heading level0 col7\" >Brier(↓)</th>        <th class=\"col_heading level0 col8\" >AUC(↓)</th>        <th class=\"col_heading level0 col9\" >Softmax(μ)</th>        <th class=\"col_heading level0 col10\" >Entropy(μ)</th>        <th class=\"col_heading level0 col11\" >MU(μ)</th>        <th class=\"col_heading level0 col12\" >DU(μ)</th>        <th class=\"col_heading level0 col13\" >UoF@5</th>        <th class=\"col_heading level0 col14\" >FP@5</th>        <th class=\"col_heading level0 col15\" >T></th>    </tr></thead><tbody>\n",
              "                <tr>\n",
              "                        <th id=\"T_cc4eae92_e608_11ea_952c_0242ac1c0002level0_row0\" class=\"row_heading level0 row0\" >0</th>\n",
              "                        <td id=\"T_cc4eae92_e608_11ea_952c_0242ac1c0002row0_col0\" class=\"data row0 col0\" >imdb_baseline_M5_0_mc</td>\n",
              "                        <td id=\"T_cc4eae92_e608_11ea_952c_0242ac1c0002row0_col1\" class=\"data row0 col1\" >0.420600</td>\n",
              "                        <td id=\"T_cc4eae92_e608_11ea_952c_0242ac1c0002row0_col2\" class=\"data row0 col2\" >3.421000</td>\n",
              "                        <td id=\"T_cc4eae92_e608_11ea_952c_0242ac1c0002row0_col3\" class=\"data row0 col3\" >0.382700</td>\n",
              "                        <td id=\"T_cc4eae92_e608_11ea_952c_0242ac1c0002row0_col4\" class=\"data row0 col4\" >0.339000</td>\n",
              "                        <td id=\"T_cc4eae92_e608_11ea_952c_0242ac1c0002row0_col5\" class=\"data row0 col5\" >1.491500</td>\n",
              "                        <td id=\"T_cc4eae92_e608_11ea_952c_0242ac1c0002row0_col6\" class=\"data row0 col6\" >0.023000</td>\n",
              "                        <td id=\"T_cc4eae92_e608_11ea_952c_0242ac1c0002row0_col7\" class=\"data row0 col7\" >0.682400</td>\n",
              "                        <td id=\"T_cc4eae92_e608_11ea_952c_0242ac1c0002row0_col8\" class=\"data row0 col8\" >0.870300</td>\n",
              "                        <td id=\"T_cc4eae92_e608_11ea_952c_0242ac1c0002row0_col9\" class=\"data row0 col9\" >0.397800</td>\n",
              "                        <td id=\"T_cc4eae92_e608_11ea_952c_0242ac1c0002row0_col10\" class=\"data row0 col10\" >2.269900</td>\n",
              "                        <td id=\"T_cc4eae92_e608_11ea_952c_0242ac1c0002row0_col11\" class=\"data row0 col11\" >0</td>\n",
              "                        <td id=\"T_cc4eae92_e608_11ea_952c_0242ac1c0002row0_col12\" class=\"data row0 col12\" >0</td>\n",
              "                        <td id=\"T_cc4eae92_e608_11ea_952c_0242ac1c0002row0_col13\" class=\"data row0 col13\" >0</td>\n",
              "                        <td id=\"T_cc4eae92_e608_11ea_952c_0242ac1c0002row0_col14\" class=\"data row0 col14\" >0</td>\n",
              "                        <td id=\"T_cc4eae92_e608_11ea_952c_0242ac1c0002row0_col15\" class=\"data row0 col15\" >0</td>\n",
              "            </tr>\n",
              "            <tr>\n",
              "                        <th id=\"T_cc4eae92_e608_11ea_952c_0242ac1c0002level0_row1\" class=\"row_heading level0 row1\" >1</th>\n",
              "                        <td id=\"T_cc4eae92_e608_11ea_952c_0242ac1c0002row1_col0\" class=\"data row1 col0\" >imdb_baseline_M5_0_nonbayesian</td>\n",
              "                        <td id=\"T_cc4eae92_e608_11ea_952c_0242ac1c0002row1_col1\" class=\"data row1 col1\" >0.420500</td>\n",
              "                        <td id=\"T_cc4eae92_e608_11ea_952c_0242ac1c0002row1_col2\" class=\"data row1 col2\" >3.388700</td>\n",
              "                        <td id=\"T_cc4eae92_e608_11ea_952c_0242ac1c0002row1_col3\" class=\"data row1 col3\" >0.382000</td>\n",
              "                        <td id=\"T_cc4eae92_e608_11ea_952c_0242ac1c0002row1_col4\" class=\"data row1 col4\" >0.337200</td>\n",
              "                        <td id=\"T_cc4eae92_e608_11ea_952c_0242ac1c0002row1_col5\" class=\"data row1 col5\" >1.535600</td>\n",
              "                        <td id=\"T_cc4eae92_e608_11ea_952c_0242ac1c0002row1_col6\" class=\"data row1 col6\" >0.076400</td>\n",
              "                        <td id=\"T_cc4eae92_e608_11ea_952c_0242ac1c0002row1_col7\" class=\"data row1 col7\" >0.694200</td>\n",
              "                        <td id=\"T_cc4eae92_e608_11ea_952c_0242ac1c0002row1_col8\" class=\"data row1 col8\" >0.867500</td>\n",
              "                        <td id=\"T_cc4eae92_e608_11ea_952c_0242ac1c0002row1_col9\" class=\"data row1 col9\" >0.344100</td>\n",
              "                        <td id=\"T_cc4eae92_e608_11ea_952c_0242ac1c0002row1_col10\" class=\"data row1 col10\" >2.501200</td>\n",
              "                        <td id=\"T_cc4eae92_e608_11ea_952c_0242ac1c0002row1_col11\" class=\"data row1 col11\" >0</td>\n",
              "                        <td id=\"T_cc4eae92_e608_11ea_952c_0242ac1c0002row1_col12\" class=\"data row1 col12\" >0</td>\n",
              "                        <td id=\"T_cc4eae92_e608_11ea_952c_0242ac1c0002row1_col13\" class=\"data row1 col13\" >0</td>\n",
              "                        <td id=\"T_cc4eae92_e608_11ea_952c_0242ac1c0002row1_col14\" class=\"data row1 col14\" >0</td>\n",
              "                        <td id=\"T_cc4eae92_e608_11ea_952c_0242ac1c0002row1_col15\" class=\"data row1 col15\" >0</td>\n",
              "            </tr>\n",
              "    </tbody></table>"
            ],
            "text/plain": [
              "<pandas.io.formats.style.Styler at 0x7f9c21c8ac88>"
            ]
          },
          "metadata": {
            "tags": []
          },
          "execution_count": 54
        }
      ]
    },
    {
      "cell_type": "code",
      "metadata": {
        "id": "wmPV8d5uWJlj",
        "colab_type": "code",
        "colab": {
          "base_uri": "https://localhost:8080/",
          "height": 119
        },
        "outputId": "d92509af-f735-4b11-de26-aea605064f5b"
      },
      "source": [
        "import seaborn as sns\n",
        "sns.color_palette(\"RdYlGn\")\n",
        "red = color='#d65f5f'"
      ],
      "execution_count": null,
      "outputs": [
        {
          "output_type": "execute_result",
          "data": {
            "text/plain": [
              "[(0.8899653979238754, 0.2867358708189158, 0.19815455594002307),\n",
              " (0.9873125720876587, 0.6473663975394078, 0.3642445213379469),\n",
              " (0.9971549404075356, 0.9118031526336025, 0.6010765090349866),\n",
              " (0.8918877354863515, 0.954479046520569, 0.6010765090349867),\n",
              " (0.6165321030372937, 0.8359092656670513, 0.41191849288735105),\n",
              " (0.22468281430219145, 0.6558246828143022, 0.3444059976931949)]"
            ]
          },
          "metadata": {
            "tags": []
          },
          "execution_count": 14
        }
      ]
    },
    {
      "cell_type": "code",
      "metadata": {
        "id": "xIb1Qjf8ddm9",
        "colab_type": "code",
        "colab": {
          "base_uri": "https://localhost:8080/",
          "height": 82
        },
        "outputId": "7bc792e3-1477-4212-9204-241d9b0dff33"
      },
      "source": [
        ""
      ],
      "execution_count": null,
      "outputs": [
        {
          "output_type": "execute_result",
          "data": {
            "text/html": [
              "<style  type=\"text/css\" >\n",
              "    #T_a46c3904_e607_11ea_952c_0242ac1c0002row0_col1 {\n",
              "            background-color:  #a50026;\n",
              "            color:  #f1f1f1;\n",
              "        }    #T_a46c3904_e607_11ea_952c_0242ac1c0002row0_col2 {\n",
              "            background-color:  #006837;\n",
              "            color:  #f1f1f1;\n",
              "        }    #T_a46c3904_e607_11ea_952c_0242ac1c0002row0_col3 {\n",
              "            background-color:  #a50026;\n",
              "            color:  #f1f1f1;\n",
              "        }    #T_a46c3904_e607_11ea_952c_0242ac1c0002row0_col4 {\n",
              "            background-color:  #a50026;\n",
              "            color:  #f1f1f1;\n",
              "        }    #T_a46c3904_e607_11ea_952c_0242ac1c0002row0_col5 {\n",
              "            background-color:  #a50026;\n",
              "            color:  #f1f1f1;\n",
              "        }    #T_a46c3904_e607_11ea_952c_0242ac1c0002row0_col6 {\n",
              "            background-color:  #a50026;\n",
              "            color:  #f1f1f1;\n",
              "        }    #T_a46c3904_e607_11ea_952c_0242ac1c0002row0_col7 {\n",
              "            background-color:  #a50026;\n",
              "            color:  #f1f1f1;\n",
              "        }    #T_a46c3904_e607_11ea_952c_0242ac1c0002row0_col8 {\n",
              "            background-color:  #006837;\n",
              "            color:  #f1f1f1;\n",
              "        }    #T_a46c3904_e607_11ea_952c_0242ac1c0002row0_col9 {\n",
              "            background-color:  #a50026;\n",
              "            color:  #f1f1f1;\n",
              "        }    #T_a46c3904_e607_11ea_952c_0242ac1c0002row0_col10 {\n",
              "            background-color:  #006837;\n",
              "            color:  #f1f1f1;\n",
              "        }    #T_a46c3904_e607_11ea_952c_0242ac1c0002row0_col11 {\n",
              "            background-color:  #006837;\n",
              "            color:  #f1f1f1;\n",
              "        }    #T_a46c3904_e607_11ea_952c_0242ac1c0002row0_col12 {\n",
              "            background-color:  #006837;\n",
              "            color:  #f1f1f1;\n",
              "        }    #T_a46c3904_e607_11ea_952c_0242ac1c0002row0_col13 {\n",
              "            background-color:  #006837;\n",
              "            color:  #f1f1f1;\n",
              "        }    #T_a46c3904_e607_11ea_952c_0242ac1c0002row0_col14 {\n",
              "            background-color:  #006837;\n",
              "            color:  #f1f1f1;\n",
              "        }    #T_a46c3904_e607_11ea_952c_0242ac1c0002row0_col15 {\n",
              "            background-color:  #006837;\n",
              "            color:  #f1f1f1;\n",
              "        }    #T_a46c3904_e607_11ea_952c_0242ac1c0002row1_col1 {\n",
              "            background-color:  #006837;\n",
              "            color:  #f1f1f1;\n",
              "        }    #T_a46c3904_e607_11ea_952c_0242ac1c0002row1_col2 {\n",
              "            background-color:  #a50026;\n",
              "            color:  #f1f1f1;\n",
              "        }    #T_a46c3904_e607_11ea_952c_0242ac1c0002row1_col3 {\n",
              "            background-color:  #006837;\n",
              "            color:  #f1f1f1;\n",
              "        }    #T_a46c3904_e607_11ea_952c_0242ac1c0002row1_col4 {\n",
              "            background-color:  #006837;\n",
              "            color:  #f1f1f1;\n",
              "        }    #T_a46c3904_e607_11ea_952c_0242ac1c0002row1_col5 {\n",
              "            background-color:  #006837;\n",
              "            color:  #f1f1f1;\n",
              "        }    #T_a46c3904_e607_11ea_952c_0242ac1c0002row1_col6 {\n",
              "            background-color:  #006837;\n",
              "            color:  #f1f1f1;\n",
              "        }    #T_a46c3904_e607_11ea_952c_0242ac1c0002row1_col7 {\n",
              "            background-color:  #006837;\n",
              "            color:  #f1f1f1;\n",
              "        }    #T_a46c3904_e607_11ea_952c_0242ac1c0002row1_col8 {\n",
              "            background-color:  #a50026;\n",
              "            color:  #f1f1f1;\n",
              "        }    #T_a46c3904_e607_11ea_952c_0242ac1c0002row1_col9 {\n",
              "            background-color:  #006837;\n",
              "            color:  #f1f1f1;\n",
              "        }    #T_a46c3904_e607_11ea_952c_0242ac1c0002row1_col10 {\n",
              "            background-color:  #a50026;\n",
              "            color:  #f1f1f1;\n",
              "        }    #T_a46c3904_e607_11ea_952c_0242ac1c0002row1_col11 {\n",
              "            background-color:  #006837;\n",
              "            color:  #f1f1f1;\n",
              "        }    #T_a46c3904_e607_11ea_952c_0242ac1c0002row1_col12 {\n",
              "            background-color:  #006837;\n",
              "            color:  #f1f1f1;\n",
              "        }    #T_a46c3904_e607_11ea_952c_0242ac1c0002row1_col13 {\n",
              "            background-color:  #006837;\n",
              "            color:  #f1f1f1;\n",
              "        }    #T_a46c3904_e607_11ea_952c_0242ac1c0002row1_col14 {\n",
              "            background-color:  #006837;\n",
              "            color:  #f1f1f1;\n",
              "        }    #T_a46c3904_e607_11ea_952c_0242ac1c0002row1_col15 {\n",
              "            background-color:  #006837;\n",
              "            color:  #f1f1f1;\n",
              "        }</style><table id=\"T_a46c3904_e607_11ea_952c_0242ac1c0002\" ><thead>    <tr>        <th class=\"blank level0\" ></th>        <th class=\"col_heading level0 col0\" >version</th>        <th class=\"col_heading level0 col1\" >Acc</th>        <th class=\"col_heading level0 col2\" >MSE(↓)</th>        <th class=\"col_heading level0 col3\" >F1(m)</th>        <th class=\"col_heading level0 col4\" >F1(M)</th>        <th class=\"col_heading level0 col5\" >NLL(↓)</th>        <th class=\"col_heading level0 col6\" >ECE(↓)</th>        <th class=\"col_heading level0 col7\" >Brier(↓)</th>        <th class=\"col_heading level0 col8\" >AUC(↓)</th>        <th class=\"col_heading level0 col9\" >Softmax(μ)</th>        <th class=\"col_heading level0 col10\" >Entropy(μ)</th>        <th class=\"col_heading level0 col11\" >MU(μ)</th>        <th class=\"col_heading level0 col12\" >DU(μ)</th>        <th class=\"col_heading level0 col13\" >UoF@5</th>        <th class=\"col_heading level0 col14\" >FP@5</th>        <th class=\"col_heading level0 col15\" >T></th>    </tr></thead><tbody>\n",
              "                <tr>\n",
              "                        <th id=\"T_a46c3904_e607_11ea_952c_0242ac1c0002level0_row0\" class=\"row_heading level0 row0\" >0</th>\n",
              "                        <td id=\"T_a46c3904_e607_11ea_952c_0242ac1c0002row0_col0\" class=\"data row0 col0\" >imdb_baseline_M5_0_mc</td>\n",
              "                        <td id=\"T_a46c3904_e607_11ea_952c_0242ac1c0002row0_col1\" class=\"data row0 col1\" >0.420600</td>\n",
              "                        <td id=\"T_a46c3904_e607_11ea_952c_0242ac1c0002row0_col2\" class=\"data row0 col2\" >3.421000</td>\n",
              "                        <td id=\"T_a46c3904_e607_11ea_952c_0242ac1c0002row0_col3\" class=\"data row0 col3\" >0.382700</td>\n",
              "                        <td id=\"T_a46c3904_e607_11ea_952c_0242ac1c0002row0_col4\" class=\"data row0 col4\" >0.339000</td>\n",
              "                        <td id=\"T_a46c3904_e607_11ea_952c_0242ac1c0002row0_col5\" class=\"data row0 col5\" >1.491500</td>\n",
              "                        <td id=\"T_a46c3904_e607_11ea_952c_0242ac1c0002row0_col6\" class=\"data row0 col6\" >0.023000</td>\n",
              "                        <td id=\"T_a46c3904_e607_11ea_952c_0242ac1c0002row0_col7\" class=\"data row0 col7\" >0.682400</td>\n",
              "                        <td id=\"T_a46c3904_e607_11ea_952c_0242ac1c0002row0_col8\" class=\"data row0 col8\" >0.870300</td>\n",
              "                        <td id=\"T_a46c3904_e607_11ea_952c_0242ac1c0002row0_col9\" class=\"data row0 col9\" >0.397800</td>\n",
              "                        <td id=\"T_a46c3904_e607_11ea_952c_0242ac1c0002row0_col10\" class=\"data row0 col10\" >2.269900</td>\n",
              "                        <td id=\"T_a46c3904_e607_11ea_952c_0242ac1c0002row0_col11\" class=\"data row0 col11\" >0</td>\n",
              "                        <td id=\"T_a46c3904_e607_11ea_952c_0242ac1c0002row0_col12\" class=\"data row0 col12\" >0</td>\n",
              "                        <td id=\"T_a46c3904_e607_11ea_952c_0242ac1c0002row0_col13\" class=\"data row0 col13\" >0</td>\n",
              "                        <td id=\"T_a46c3904_e607_11ea_952c_0242ac1c0002row0_col14\" class=\"data row0 col14\" >0</td>\n",
              "                        <td id=\"T_a46c3904_e607_11ea_952c_0242ac1c0002row0_col15\" class=\"data row0 col15\" >0</td>\n",
              "            </tr>\n",
              "            <tr>\n",
              "                        <th id=\"T_a46c3904_e607_11ea_952c_0242ac1c0002level0_row1\" class=\"row_heading level0 row1\" >1</th>\n",
              "                        <td id=\"T_a46c3904_e607_11ea_952c_0242ac1c0002row1_col0\" class=\"data row1 col0\" >imdb_baseline_M5_0_nonbayesian</td>\n",
              "                        <td id=\"T_a46c3904_e607_11ea_952c_0242ac1c0002row1_col1\" class=\"data row1 col1\" >0.420500</td>\n",
              "                        <td id=\"T_a46c3904_e607_11ea_952c_0242ac1c0002row1_col2\" class=\"data row1 col2\" >3.388700</td>\n",
              "                        <td id=\"T_a46c3904_e607_11ea_952c_0242ac1c0002row1_col3\" class=\"data row1 col3\" >0.382000</td>\n",
              "                        <td id=\"T_a46c3904_e607_11ea_952c_0242ac1c0002row1_col4\" class=\"data row1 col4\" >0.337200</td>\n",
              "                        <td id=\"T_a46c3904_e607_11ea_952c_0242ac1c0002row1_col5\" class=\"data row1 col5\" >1.535600</td>\n",
              "                        <td id=\"T_a46c3904_e607_11ea_952c_0242ac1c0002row1_col6\" class=\"data row1 col6\" >0.076400</td>\n",
              "                        <td id=\"T_a46c3904_e607_11ea_952c_0242ac1c0002row1_col7\" class=\"data row1 col7\" >0.694200</td>\n",
              "                        <td id=\"T_a46c3904_e607_11ea_952c_0242ac1c0002row1_col8\" class=\"data row1 col8\" >0.867500</td>\n",
              "                        <td id=\"T_a46c3904_e607_11ea_952c_0242ac1c0002row1_col9\" class=\"data row1 col9\" >0.344100</td>\n",
              "                        <td id=\"T_a46c3904_e607_11ea_952c_0242ac1c0002row1_col10\" class=\"data row1 col10\" >2.501200</td>\n",
              "                        <td id=\"T_a46c3904_e607_11ea_952c_0242ac1c0002row1_col11\" class=\"data row1 col11\" >0</td>\n",
              "                        <td id=\"T_a46c3904_e607_11ea_952c_0242ac1c0002row1_col12\" class=\"data row1 col12\" >0</td>\n",
              "                        <td id=\"T_a46c3904_e607_11ea_952c_0242ac1c0002row1_col13\" class=\"data row1 col13\" >0</td>\n",
              "                        <td id=\"T_a46c3904_e607_11ea_952c_0242ac1c0002row1_col14\" class=\"data row1 col14\" >0</td>\n",
              "                        <td id=\"T_a46c3904_e607_11ea_952c_0242ac1c0002row1_col15\" class=\"data row1 col15\" >0</td>\n",
              "            </tr>\n",
              "    </tbody></table>"
            ],
            "text/plain": [
              "<pandas.io.formats.style.Styler at 0x7f9c21d4fe80>"
            ]
          },
          "metadata": {
            "tags": []
          },
          "execution_count": 49
        }
      ]
    },
    {
      "cell_type": "code",
      "metadata": {
        "id": "vI_ZVnebWF3d",
        "colab_type": "code",
        "colab": {}
      },
      "source": [
        "import seaborn as sns\n",
        "\n",
        "\n",
        "cm = sns.light_palette(\"green\", as_cmap=True)"
      ],
      "execution_count": null,
      "outputs": []
    },
    {
      "cell_type": "code",
      "metadata": {
        "id": "klvgcPqVRzEa",
        "colab_type": "code",
        "colab": {
          "base_uri": "https://localhost:8080/",
          "height": 34
        },
        "outputId": "a5326d48-4871-41d7-f0a3-413c9536c314"
      },
      "source": [
        ""
      ],
      "execution_count": null,
      "outputs": [
        {
          "output_type": "execute_result",
          "data": {
            "text/plain": [
              "True"
            ]
          },
          "metadata": {
            "tags": []
          },
          "execution_count": 11
        }
      ]
    },
    {
      "cell_type": "code",
      "metadata": {
        "id": "8l_eh4eDTZe5",
        "colab_type": "code",
        "colab": {}
      },
      "source": [
        ""
      ],
      "execution_count": null,
      "outputs": []
    }
  ]
}